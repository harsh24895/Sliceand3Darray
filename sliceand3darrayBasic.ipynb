{
 "cells": [
  {
   "cell_type": "code",
   "execution_count": 1,
   "id": "4fa58f57-9feb-4222-b612-c10e62b1ed13",
   "metadata": {},
   "outputs": [
    {
     "name": "stdout",
     "output_type": "stream",
     "text": [
      "[[ 1  2  3  4  5  6]\n",
      " [ 8  9 10 11 12 14]]\n"
     ]
    }
   ],
   "source": [
    "import numpy as np\n",
    "\n",
    "a = np.array([[1,2,3,4,5,6],[8,9,10,11,12,14]])\n",
    "print(a)"
   ]
  },
  {
   "cell_type": "code",
   "execution_count": 2,
   "id": "ee29e30e-1e36-4523-96c2-c7b9abf2f7ac",
   "metadata": {},
   "outputs": [
    {
     "name": "stdout",
     "output_type": "stream",
     "text": [
      "[6. 1. 5.]\n"
     ]
    }
   ],
   "source": [
    "b = np.array([6.0,1,5])\n",
    "print(b)"
   ]
  },
  {
   "cell_type": "code",
   "execution_count": 5,
   "id": "9135cea0-c4db-40d5-9ab7-a9df7a1d0573",
   "metadata": {},
   "outputs": [
    {
     "data": {
      "text/plain": [
       "dtype('float64')"
      ]
     },
     "execution_count": 5,
     "metadata": {},
     "output_type": "execute_result"
    }
   ],
   "source": [
    "#get type\n",
    "b.dtype"
   ]
  },
  {
   "cell_type": "code",
   "execution_count": 3,
   "id": "58a7f350-256b-4d10-87b0-f8020f193d34",
   "metadata": {},
   "outputs": [
    {
     "data": {
      "text/plain": [
       "8"
      ]
     },
     "execution_count": 3,
     "metadata": {},
     "output_type": "execute_result"
    }
   ],
   "source": [
    "#getsize\n",
    "b.itemsize"
   ]
  },
  {
   "cell_type": "code",
   "execution_count": 7,
   "id": "e0791432-6960-4a25-aefd-d3e3b9eca9a7",
   "metadata": {},
   "outputs": [
    {
     "data": {
      "text/plain": [
       "24"
      ]
     },
     "execution_count": 7,
     "metadata": {},
     "output_type": "execute_result"
    }
   ],
   "source": [
    "#get total size\n",
    "b.size * b.itemsize"
   ]
  },
  {
   "cell_type": "code",
   "execution_count": 8,
   "id": "f6a2467a-b160-4936-bb7e-680fa255836b",
   "metadata": {},
   "outputs": [
    {
     "data": {
      "text/plain": [
       "24"
      ]
     },
     "execution_count": 8,
     "metadata": {},
     "output_type": "execute_result"
    }
   ],
   "source": [
    "#get total size another way\n",
    "b.nbytes\n"
   ]
  },
  {
   "cell_type": "code",
   "execution_count": 11,
   "id": "86f09eb8-d440-4eb3-9b99-8d06e6574d9a",
   "metadata": {},
   "outputs": [
    {
     "name": "stdout",
     "output_type": "stream",
     "text": [
      "[[5 9 8 5 8]\n",
      " [8 7 5 6 2]]\n"
     ]
    }
   ],
   "source": [
    "a1 = np.array([[5,9,8,5,8],[8,7,5,6,2]])\n",
    "print(a1)\n"
   ]
  },
  {
   "cell_type": "code",
   "execution_count": 12,
   "id": "a48b8df0-ed2e-4670-8b74-edf31467a73d",
   "metadata": {},
   "outputs": [
    {
     "data": {
      "text/plain": [
       "(2, 5)"
      ]
     },
     "execution_count": 12,
     "metadata": {},
     "output_type": "execute_result"
    }
   ],
   "source": [
    "#get the shape of the array\n",
    "a1.shape\n"
   ]
  },
  {
   "cell_type": "code",
   "execution_count": 15,
   "id": "91458e12-91aa-4d97-83f7-164f41634a6c",
   "metadata": {},
   "outputs": [
    {
     "data": {
      "text/plain": [
       "8"
      ]
     },
     "execution_count": 15,
     "metadata": {},
     "output_type": "execute_result"
    }
   ],
   "source": [
    "#get the specific elements[row,column]\n",
    "a1[1,-5]"
   ]
  },
  {
   "cell_type": "code",
   "execution_count": 16,
   "id": "8e499af6-b428-4666-8022-610449d94822",
   "metadata": {},
   "outputs": [
    {
     "data": {
      "text/plain": [
       "array([5, 9, 8, 5, 8])"
      ]
     },
     "execution_count": 16,
     "metadata": {},
     "output_type": "execute_result"
    }
   ],
   "source": [
    "#get specific row\n",
    "a1[0,:]"
   ]
  },
  {
   "cell_type": "code",
   "execution_count": 17,
   "id": "dad3086d-2da8-4c1e-8bb7-7a56d080654d",
   "metadata": {},
   "outputs": [
    {
     "data": {
      "text/plain": [
       "array([9, 7])"
      ]
     },
     "execution_count": 17,
     "metadata": {},
     "output_type": "execute_result"
    }
   ],
   "source": [
    "#get the column\n",
    "a1[:, 1]"
   ]
  },
  {
   "cell_type": "code",
   "execution_count": 18,
   "id": "cb006612-6f8f-4b50-ac9f-991b644255ff",
   "metadata": {},
   "outputs": [
    {
     "data": {
      "text/plain": [
       "array([9, 8])"
      ]
     },
     "execution_count": 18,
     "metadata": {},
     "output_type": "execute_result"
    }
   ],
   "source": [
    "#getting much into it [startindex:endindex:stepsize]\n",
    "\n",
    "a1[0,1:3]\n",
    "\n",
    "# it would be 0 array, 1 index to find the end index, 3 the stepsize to skip\n"
   ]
  },
  {
   "cell_type": "code",
   "execution_count": 23,
   "id": "abea77ec-0f2d-4d4d-835f-c6b6495a3933",
   "metadata": {},
   "outputs": [
    {
     "name": "stdout",
     "output_type": "stream",
     "text": [
      "[[ 5  9  8  5  8]\n",
      " [ 8  7  5  6 15]]\n"
     ]
    }
   ],
   "source": [
    "#update the array\n",
    "a1[1,4]=15\n",
    "print(a1)\n"
   ]
  },
  {
   "cell_type": "code",
   "execution_count": 24,
   "id": "f6509454-e2d7-483e-9eb7-7dee4cadcbfe",
   "metadata": {},
   "outputs": [
    {
     "name": "stdout",
     "output_type": "stream",
     "text": [
      "[[ 5  9  7  5  8]\n",
      " [ 8  7  7  6 15]]\n"
     ]
    }
   ],
   "source": [
    "#to update the column\n",
    "\n",
    "a1[:,2]=7\n",
    "print(a1)"
   ]
  },
  {
   "cell_type": "code",
   "execution_count": 26,
   "id": "61f393b5-58a1-423f-80f8-218540580f2b",
   "metadata": {},
   "outputs": [
    {
     "name": "stdout",
     "output_type": "stream",
     "text": [
      "[[[1 3]\n",
      "  [4 5]]\n",
      "\n",
      " [[6 7]\n",
      "  [8 9]]]\n"
     ]
    }
   ],
   "source": [
    "# 3d array example\n",
    "\n",
    "b1 = np.array([[[1,3],[4,5]],[[6,7],[8,9]]])\n",
    "print(b1)\n"
   ]
  },
  {
   "cell_type": "code",
   "execution_count": 27,
   "id": "c3e4b8ff-9578-47ad-a8fd-b2a99ffa8d40",
   "metadata": {},
   "outputs": [
    {
     "data": {
      "text/plain": [
       "5"
      ]
     },
     "execution_count": 27,
     "metadata": {},
     "output_type": "execute_result"
    }
   ],
   "source": [
    "#get the specific element from the upper 3d array example\n",
    "b1[0,1,1]\n"
   ]
  },
  {
   "cell_type": "code",
   "execution_count": 28,
   "id": "70042daa-c6b2-429c-a4bf-c2fbf942aab8",
   "metadata": {},
   "outputs": [
    {
     "data": {
      "text/plain": [
       "array([4, 5])"
      ]
     },
     "execution_count": 28,
     "metadata": {},
     "output_type": "execute_result"
    }
   ],
   "source": [
    "#get the specific element from the upper 3d array example\n",
    "b1[0,1,:]\n"
   ]
  },
  {
   "cell_type": "code",
   "execution_count": 29,
   "id": "77c95355-c977-441c-b8b2-d406d44a975c",
   "metadata": {},
   "outputs": [
    {
     "data": {
      "text/plain": [
       "array([[4, 5],\n",
       "       [8, 9]])"
      ]
     },
     "execution_count": 29,
     "metadata": {},
     "output_type": "execute_result"
    }
   ],
   "source": [
    "#get the specific element from the upper 3d array example\n",
    "b1[:,1,:]\n"
   ]
  },
  {
   "cell_type": "code",
   "execution_count": 31,
   "id": "a30a1316-1e0a-4d55-8a36-cfd41096a966",
   "metadata": {},
   "outputs": [
    {
     "name": "stdout",
     "output_type": "stream",
     "text": [
      "[[[1 3]\n",
      "  [5 5]]\n",
      "\n",
      " [[6 7]\n",
      "  [5 5]]]\n"
     ]
    }
   ],
   "source": [
    "#replace\n",
    "b1[:,1,:] = [[5,5],[5,5]]\n",
    "print(b1)"
   ]
  },
  {
   "cell_type": "code",
   "execution_count": 33,
   "id": "beec5cf1-efb8-4717-92d2-54d2701290d7",
   "metadata": {},
   "outputs": [
    {
     "data": {
      "text/plain": [
       "array([[0., 0., 0.],\n",
       "       [0., 0., 0.]])"
      ]
     },
     "execution_count": 33,
     "metadata": {},
     "output_type": "execute_result"
    }
   ],
   "source": [
    "#initializing different Types of arrays\n",
    "\n",
    "#All zero matrix\n",
    "np.zeros((2,3))"
   ]
  },
  {
   "cell_type": "code",
   "execution_count": 34,
   "id": "da63e635-ce15-47b4-9003-de1d4d646baa",
   "metadata": {},
   "outputs": [
    {
     "data": {
      "text/plain": [
       "array([[[0., 0., 0.],\n",
       "        [0., 0., 0.],\n",
       "        [0., 0., 0.]],\n",
       "\n",
       "       [[0., 0., 0.],\n",
       "        [0., 0., 0.],\n",
       "        [0., 0., 0.]]])"
      ]
     },
     "execution_count": 34,
     "metadata": {},
     "output_type": "execute_result"
    }
   ],
   "source": [
    "np.zeros((2,3,3))"
   ]
  },
  {
   "cell_type": "code",
   "execution_count": 39,
   "id": "d7f2df67-56ca-4e90-aea0-52bb605d8873",
   "metadata": {},
   "outputs": [
    {
     "data": {
      "text/plain": [
       "array([[[1, 1, 1],\n",
       "        [1, 1, 1]],\n",
       "\n",
       "       [[1, 1, 1],\n",
       "        [1, 1, 1]],\n",
       "\n",
       "       [[1, 1, 1],\n",
       "        [1, 1, 1]]])"
      ]
     },
     "execution_count": 39,
     "metadata": {},
     "output_type": "execute_result"
    }
   ],
   "source": [
    "#all 1s matrix and set datatype \n",
    "\n",
    "np.ones((3,2,3), dtype='int32')"
   ]
  },
  {
   "cell_type": "code",
   "execution_count": 6,
   "id": "de3052b0-bb45-4373-a542-0a3cdc42f859",
   "metadata": {},
   "outputs": [
    {
     "data": {
      "text/plain": [
       "array([[77, 77],\n",
       "       [77, 77]])"
      ]
     },
     "execution_count": 6,
     "metadata": {},
     "output_type": "execute_result"
    }
   ],
   "source": [
    "#any other number\n",
    "\n",
    "np.full((2,2),77)"
   ]
  },
  {
   "cell_type": "code",
   "execution_count": 10,
   "id": "1cb7de65-9d01-4402-967e-270ce9476a4b",
   "metadata": {},
   "outputs": [
    {
     "name": "stdout",
     "output_type": "stream",
     "text": [
      "[[1 2 3 4 5]\n",
      " [6 7 8 9 0]]\n"
     ]
    },
    {
     "data": {
      "text/plain": [
       "array([[3, 3, 3, 3, 3],\n",
       "       [3, 3, 3, 3, 3]])"
      ]
     },
     "execution_count": 10,
     "metadata": {},
     "output_type": "execute_result"
    }
   ],
   "source": [
    "#any other number(full like)\n",
    "import numpy as np\n",
    "a1 = np.array([[1,2,3,4,5],[6,7,8,9,0]])\n",
    "print(a1)\n",
    "\n",
    "\n",
    "np.full(a1.shape, 3)\n"
   ]
  },
  {
   "cell_type": "code",
   "execution_count": 11,
   "id": "cb06794c-c914-425e-9371-67c3a662a0fb",
   "metadata": {},
   "outputs": [
    {
     "data": {
      "text/plain": [
       "array([[0.23031804, 0.37106887],\n",
       "       [0.1212593 , 0.92833177],\n",
       "       [0.50427276, 0.86234727]])"
      ]
     },
     "execution_count": 11,
     "metadata": {},
     "output_type": "execute_result"
    }
   ],
   "source": [
    "# randomm decimal numbers\n",
    "np.random.rand(3,2)\n"
   ]
  },
  {
   "cell_type": "code",
   "execution_count": 41,
   "id": "55e8dd32-9897-432e-abf6-dae419743ce5",
   "metadata": {},
   "outputs": [
    {
     "data": {
      "text/plain": [
       "array([[4, 3],\n",
       "       [0, 1]])"
      ]
     },
     "execution_count": 41,
     "metadata": {},
     "output_type": "execute_result"
    }
   ],
   "source": [
    "#random integer numbers here 5 will limit the execution we can't exceed above 5. try to execute this \n",
    "# multiple time\n",
    "np.random.randint(5, size=(2,2))\n"
   ]
  },
  {
   "cell_type": "code",
   "execution_count": 43,
   "id": "5605a313-044a-4b01-bfcb-daa4714ba070",
   "metadata": {},
   "outputs": [
    {
     "data": {
      "text/plain": [
       "array([[1., 0., 0., 0., 0., 0.],\n",
       "       [0., 1., 0., 0., 0., 0.],\n",
       "       [0., 0., 1., 0., 0., 0.],\n",
       "       [0., 0., 0., 1., 0., 0.],\n",
       "       [0., 0., 0., 0., 1., 0.],\n",
       "       [0., 0., 0., 0., 0., 1.]])"
      ]
     },
     "execution_count": 43,
     "metadata": {},
     "output_type": "execute_result"
    }
   ],
   "source": [
    "#the identity matrix\n",
    "np.identity(6)"
   ]
  },
  {
   "cell_type": "code",
   "execution_count": 50,
   "id": "785b7da2-7c98-4db1-9be4-bd6e9b87091a",
   "metadata": {},
   "outputs": [
    {
     "name": "stdout",
     "output_type": "stream",
     "text": [
      "[[1 2 3]\n",
      " [1 2 3]\n",
      " [1 2 3]]\n"
     ]
    }
   ],
   "source": [
    "#it will repeat the array by the repeat times\n",
    "arr = np.array([[1,2,3]])\n",
    "r = np.repeat(arr,3,axis=0)\n",
    "print(r)"
   ]
  },
  {
   "cell_type": "code",
   "execution_count": 80,
   "id": "04940aaa-06f4-4ff2-a69c-5aac67b5b52b",
   "metadata": {},
   "outputs": [
    {
     "name": "stdout",
     "output_type": "stream",
     "text": [
      "[[1. 1. 1. 1. 1.]\n",
      " [1. 1. 1. 1. 1.]\n",
      " [1. 1. 1. 1. 1.]\n",
      " [1. 1. 1. 1. 1.]\n",
      " [1. 1. 1. 1. 1.]]\n",
      "[[0. 0. 0.]\n",
      " [0. 9. 0.]\n",
      " [0. 0. 0.]]\n",
      "[[1. 1. 1. 1. 1.]\n",
      " [1. 0. 0. 0. 1.]\n",
      " [1. 0. 9. 0. 1.]\n",
      " [1. 0. 0. 0. 1.]\n",
      " [1. 1. 1. 1. 1.]]\n"
     ]
    }
   ],
   "source": [
    "#exercise\n",
    "out = np.ones((5,5))\n",
    "print(out)\n",
    "\n",
    "x = np.zeros((3,3))\n",
    "x[1,1] = 9\n",
    "print(x)\n",
    "\n",
    "out[1:4,1:4] = x\n",
    "print(out)"
   ]
  },
  {
   "cell_type": "code",
   "execution_count": 87,
   "id": "fdc15dfe-ad13-4ee7-bf3c-097e2d809a12",
   "metadata": {},
   "outputs": [
    {
     "name": "stdout",
     "output_type": "stream",
     "text": [
      "[ 5 10  7]\n",
      "[5 6 7]\n"
     ]
    }
   ],
   "source": [
    "# BE CAREFUL WHEN COPYING ARRAYS\n",
    "\n",
    "a = np.array([5,6,7])\n",
    "b=a.copy()#make sure to use copy so that we can see the actual value\n",
    "b[1]=10\n",
    "print(b)\n",
    "print(a)\n",
    "\n"
   ]
  },
  {
   "cell_type": "code",
   "execution_count": 88,
   "id": "deb5bc63-8490-4e5f-b8ba-f839c0d4a059",
   "metadata": {},
   "outputs": [
    {
     "name": "stdout",
     "output_type": "stream",
     "text": [
      "[1 2 3]\n"
     ]
    }
   ],
   "source": [
    "# Mathematics\n",
    "\n",
    "a = np.array([1,2,3])\n",
    "print(a)\n"
   ]
  },
  {
   "cell_type": "code",
   "execution_count": 89,
   "id": "a2bf2031-323a-4879-b2de-5dbd0d38bc65",
   "metadata": {},
   "outputs": [
    {
     "data": {
      "text/plain": [
       "array([3, 4, 5])"
      ]
     },
     "execution_count": 89,
     "metadata": {},
     "output_type": "execute_result"
    }
   ],
   "source": [
    "a + 2"
   ]
  },
  {
   "cell_type": "code",
   "execution_count": 90,
   "id": "ffec67c9-1a10-4cc5-bd3e-50221214938f",
   "metadata": {},
   "outputs": [
    {
     "data": {
      "text/plain": [
       "array([-1,  0,  1])"
      ]
     },
     "execution_count": 90,
     "metadata": {},
     "output_type": "execute_result"
    }
   ],
   "source": [
    "a - 2\n"
   ]
  },
  {
   "cell_type": "code",
   "execution_count": 91,
   "id": "7671e0df-58e3-4a8c-828f-fe0d6e7ca9a4",
   "metadata": {},
   "outputs": [
    {
     "data": {
      "text/plain": [
       "array([2, 4, 6])"
      ]
     },
     "execution_count": 91,
     "metadata": {},
     "output_type": "execute_result"
    }
   ],
   "source": [
    "a * 2"
   ]
  },
  {
   "cell_type": "code",
   "execution_count": 94,
   "id": "40659a81-a696-4cee-9781-de90c9a073f2",
   "metadata": {},
   "outputs": [
    {
     "data": {
      "text/plain": [
       "array([5, 7, 9])"
      ]
     },
     "execution_count": 94,
     "metadata": {},
     "output_type": "execute_result"
    }
   ],
   "source": [
    "#add two arrays\n",
    "b = np.array([4,5,6])\n",
    "a + b\n"
   ]
  },
  {
   "cell_type": "code",
   "execution_count": 100,
   "id": "fd8e4825-f6d6-4b46-bf9b-e32318b710cd",
   "metadata": {},
   "outputs": [
    {
     "name": "stdout",
     "output_type": "stream",
     "text": [
      "[[1. 1. 1.]\n",
      " [1. 1. 1.]]\n",
      "[[2 2]\n",
      " [2 2]\n",
      " [2 2]]\n"
     ]
    }
   ],
   "source": [
    "###Linear Algebra\n",
    "a  = np.ones((2,3))\n",
    "print(a)\n",
    "\n",
    "# it will create array with 2's\n",
    "b = np.full((3,2),2)\n",
    "print(b)"
   ]
  },
  {
   "cell_type": "code",
   "execution_count": 101,
   "id": "eada36c4-afc2-42fb-9bde-8c627ca08f7b",
   "metadata": {},
   "outputs": [
    {
     "data": {
      "text/plain": [
       "array([[6., 6.],\n",
       "       [6., 6.]])"
      ]
     },
     "execution_count": 101,
     "metadata": {},
     "output_type": "execute_result"
    }
   ],
   "source": [
    "# multiply to matrix array it uses this matmul\n",
    "np.matmul(a,b)"
   ]
  },
  {
   "cell_type": "code",
   "execution_count": 105,
   "id": "8090552b-43cc-4375-9fae-b373cc3c8352",
   "metadata": {},
   "outputs": [
    {
     "data": {
      "text/plain": [
       "1.0"
      ]
     },
     "execution_count": 105,
     "metadata": {},
     "output_type": "execute_result"
    }
   ],
   "source": [
    "#find the determinant linalg - Linear algebra\n",
    "c = np.identity(3)\n",
    "np.linalg.det(c)"
   ]
  },
  {
   "cell_type": "markdown",
   "id": "7b769e70-be3e-4788-a7db-24813771c976",
   "metadata": {},
   "source": [
    "# Statistics "
   ]
  },
  {
   "cell_type": "code",
   "execution_count": 106,
   "id": "5d1bb1d6-59d9-422b-ae38-987ec7d0ab93",
   "metadata": {},
   "outputs": [
    {
     "data": {
      "text/plain": [
       "array([[2, 5, 8],\n",
       "       [1, 4, 7]])"
      ]
     },
     "execution_count": 106,
     "metadata": {},
     "output_type": "execute_result"
    }
   ],
   "source": [
    "stats = np.array([[2,5,8],[1,4,7]])\n",
    "stats"
   ]
  },
  {
   "cell_type": "markdown",
   "id": "2bbbc233-c464-4c60-8acd-6f4c38e3fb50",
   "metadata": {},
   "source": [
    "#this will min array with axis 0\n",
    "np.min(stats, axis=0)\n"
   ]
  },
  {
   "cell_type": "code",
   "execution_count": 112,
   "id": "5d13aa47-8343-4722-ac93-7df8efee7cbc",
   "metadata": {},
   "outputs": [
    {
     "data": {
      "text/plain": [
       "8"
      ]
     },
     "execution_count": 112,
     "metadata": {},
     "output_type": "execute_result"
    }
   ],
   "source": [
    "np.max(stats)"
   ]
  },
  {
   "cell_type": "markdown",
   "id": "e8d1c872-5a75-4e07-b9da-ae8b874153a6",
   "metadata": {},
   "source": [
    "# Reorganizing Arrays"
   ]
  },
  {
   "cell_type": "code",
   "execution_count": 149,
   "id": "ad6474a8-7402-4694-ae2d-f1dc7aa3a40f",
   "metadata": {},
   "outputs": [
    {
     "name": "stdout",
     "output_type": "stream",
     "text": [
      "[[2 5 9 0]\n",
      " [5 6 8 5]]\n"
     ]
    }
   ],
   "source": [
    "bef = np.array([[2,5,9,0],[5,6,8,5]])\n",
    "print(bef)\n",
    "\n"
   ]
  },
  {
   "cell_type": "code",
   "execution_count": 151,
   "id": "27a9f260-0d77-4065-8a94-6301fb5e298b",
   "metadata": {},
   "outputs": [
    {
     "name": "stdout",
     "output_type": "stream",
     "text": [
      "[[2 5]\n",
      " [9 0]\n",
      " [5 6]\n",
      " [8 5]]\n"
     ]
    }
   ],
   "source": [
    "after = bef.reshape((4,2))\n",
    "print(after)"
   ]
  },
  {
   "cell_type": "code",
   "execution_count": 157,
   "id": "2143e0cc-e85a-40cf-a1a2-967a72a77b9a",
   "metadata": {},
   "outputs": [
    {
     "data": {
      "text/plain": [
       "array([[1, 2, 3, 4, 5],\n",
       "       [7, 8, 9, 0, 5],\n",
       "       [1, 2, 3, 4, 5],\n",
       "       [7, 8, 9, 0, 5]])"
      ]
     },
     "execution_count": 157,
     "metadata": {},
     "output_type": "execute_result"
    }
   ],
   "source": [
    "#Vertical stacking \n",
    "\n",
    "v1 = np.array([1,2,3,4,5])\n",
    "v2 = np.array([7,8,9,0,5])\n",
    "\n",
    "np.vstack([v1,v2,v1,v2])\n",
    "        "
   ]
  },
  {
   "cell_type": "code",
   "execution_count": 165,
   "id": "57079166-efcf-4aea-a97e-965a946c380d",
   "metadata": {},
   "outputs": [
    {
     "data": {
      "text/plain": [
       "array([[0., 0., 1., 1., 1., 1.],\n",
       "       [0., 0., 1., 1., 1., 1.]])"
      ]
     },
     "execution_count": 165,
     "metadata": {},
     "output_type": "execute_result"
    }
   ],
   "source": [
    "#horizontal Stacking (( [[ barckets works too\n",
    "h1 = np.ones((2,4))\n",
    "h2 = np.zeros((2,2))\n",
    "\n",
    "np.hstack((h2,h1))\n"
   ]
  }
 ],
 "metadata": {
  "kernelspec": {
   "display_name": "Python 3 (ipykernel)",
   "language": "python",
   "name": "python3"
  },
  "language_info": {
   "codemirror_mode": {
    "name": "ipython",
    "version": 3
   },
   "file_extension": ".py",
   "mimetype": "text/x-python",
   "name": "python",
   "nbconvert_exporter": "python",
   "pygments_lexer": "ipython3",
   "version": "3.12.2"
  }
 },
 "nbformat": 4,
 "nbformat_minor": 5
}
